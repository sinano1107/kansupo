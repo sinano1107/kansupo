{
 "cells": [
  {
   "cell_type": "markdown",
   "metadata": {},
   "source": [
    "# 戦闘から得られたAPI履歴から、必要なデータを抽出するプロセスを構築する"
   ]
  },
  {
   "cell_type": "code",
   "execution_count": 1,
   "metadata": {},
   "outputs": [],
   "source": [
    "import json\n",
    "import os"
   ]
  },
  {
   "cell_type": "code",
   "execution_count": 2,
   "metadata": {},
   "outputs": [],
   "source": [
    "# 対象のrootディレクトリ\n",
    "root_dir = os.getcwd() + '/2025-01-30 10:31:15.605343'"
   ]
  },
  {
   "cell_type": "markdown",
   "metadata": {},
   "source": [
    "## api_req_map/start 海域出撃開始時"
   ]
  },
  {
   "cell_type": "code",
   "execution_count": null,
   "metadata": {},
   "outputs": [],
   "source": [
    "with open(root_dir + '/2025-01-30 10:34:23.688628_api_req_map-start.json') as f:\n",
    "    start_response = f.read()\n",
    "    start_response = json.loads(start_response).get(\"api_data\")\n",
    "    "
   ]
  },
  {
   "cell_type": "markdown",
   "metadata": {},
   "source": [
    "### 羅針盤が表示されるか確認"
   ]
  },
  {
   "cell_type": "code",
   "execution_count": 4,
   "metadata": {},
   "outputs": [
    {
     "name": "stdout",
     "output_type": "stream",
     "text": [
      "羅針盤が表示されない\n"
     ]
    }
   ],
   "source": [
    "print(\"羅針盤が表示される\" if start_response.get(\"api_rashin_flg\") else \"羅針盤が表示されない\")"
   ]
  },
  {
   "cell_type": "markdown",
   "metadata": {},
   "source": [
    "### 次に訪れるセル"
   ]
  },
  {
   "cell_type": "code",
   "execution_count": 5,
   "metadata": {},
   "outputs": [
    {
     "name": "stdout",
     "output_type": "stream",
     "text": [
      "次に訪れるセルのID: 1\n",
      "次に訪れるセルの情報: {'api_id': 3002, 'api_no': 1, 'api_color_no': 4, 'api_passed': 1}\n"
     ]
    }
   ],
   "source": [
    "next_cell_id = start_response.get(\"api_no\")\n",
    "cell_data = start_response.get(\"api_cell_data\")\n",
    "\n",
    "for d in cell_data:\n",
    "    if d.get(\"api_no\") == next_cell_id:\n",
    "        next_cell_data = d\n",
    "        break\n",
    "\n",
    "print(f\"次に訪れるセルのID: {next_cell_id}\")\n",
    "print(f\"次に訪れるセルの情報: {next_cell_data}\")"
   ]
  },
  {
   "cell_type": "markdown",
   "metadata": {},
   "source": [
    "### 次のマスで起こるイベント"
   ]
  },
  {
   "cell_type": "code",
   "execution_count": 6,
   "metadata": {},
   "outputs": [
    {
     "name": "stdout",
     "output_type": "stream",
     "text": [
      "イベントID: 4, イベント: 通常戦闘\n"
     ]
    }
   ],
   "source": [
    "event_id = start_response.get(\"api_event_id\")\n",
    "event_mapping = {\n",
    "    0: \"初期位置\",\n",
    "    1: \"イベントなし\",\n",
    "    2: \"資源獲得\",\n",
    "    3: \"渦潮\",\n",
    "    4: \"通常戦闘\",\n",
    "    5: \"ボス戦闘\",\n",
    "    6: \"気のせいだった\",\n",
    "    7: \"航空戦or航空偵察\",\n",
    "    8: \"船団護衛成功\",\n",
    "    9: \"揚陸地点\",\n",
    "    10: \"泊地\"\n",
    "}\n",
    "\n",
    "event_description = event_mapping.get(event_id, \"未知のイベント\")\n",
    "print(f\"イベントID: {event_id}, イベント: {event_description}\")"
   ]
  },
  {
   "cell_type": "markdown",
   "metadata": {},
   "source": [
    "## api_req_sortie/battle 戦闘開始"
   ]
  },
  {
   "cell_type": "code",
   "execution_count": 7,
   "metadata": {},
   "outputs": [],
   "source": [
    "with open(root_dir + \"/2025-01-30 10:34:52.025271_api_req_sortie-battle.json\") as f:\n",
    "    battle_response = f.read()\n",
    "    battle_response = json.loads(battle_response).get(\"api_data\")"
   ]
  },
  {
   "cell_type": "markdown",
   "metadata": {},
   "source": [
    "### 戦闘の情報"
   ]
  },
  {
   "cell_type": "code",
   "execution_count": 8,
   "metadata": {},
   "outputs": [
    {
     "name": "stdout",
     "output_type": "stream",
     "text": [
      "先制対潜が発生しない\n",
      "先制雷撃が発生しない\n",
      "砲撃戦１巡目が発生する\n",
      "砲撃戦２巡目が発生しない\n",
      "砲撃戦３巡目が発生しない\n",
      "雷撃戦が発生しない\n"
     ]
    }
   ],
   "source": [
    "opening_taisen_flag = battle_response.get(\"api_opening_taik_flag\")\n",
    "opening_flag = battle_response.get(\"api_opening_flag\")\n",
    "hourai_flag = battle_response.get(\"api_hourai_flag\")\n",
    "\n",
    "print(\"先制対潜が発生する\" if opening_taisen_flag else \"先制対潜が発生しない\")\n",
    "print(\"先制雷撃が発生する\" if opening_flag else \"先制雷撃が発生しない\")\n",
    "print(\"砲撃戦１巡目が発生する\" if hourai_flag[0] else \"砲撃戦１巡目が発生しない\")\n",
    "print(\"砲撃戦２巡目が発生する\" if hourai_flag[1] else \"砲撃戦２巡目が発生しない\")\n",
    "print(\"砲撃戦３巡目が発生する\" if hourai_flag[2] else \"砲撃戦３巡目が発生しない\")\n",
    "print(\"雷撃戦が発生する\" if hourai_flag[3] else \"雷撃戦が発生しない\")"
   ]
  },
  {
   "cell_type": "markdown",
   "metadata": {},
   "source": [
    "### 敵味方のHPを取得"
   ]
  },
  {
   "cell_type": "code",
   "execution_count": 9,
   "metadata": {},
   "outputs": [
    {
     "name": "stdout",
     "output_type": "stream",
     "text": [
      "味方1隻目のHP: 15/15\n",
      "味方2隻目のHP: 13/13\n",
      "味方3隻目のHP: 15/15\n",
      "味方4隻目のHP: 15/15\n",
      "味方5隻目のHP: 13/13\n",
      "味方6隻目のHP: 16/16\n",
      "敵1隻目のHP: 20/20\n"
     ]
    }
   ],
   "source": [
    "friend_now_hp_list = battle_response.get(\"api_f_nowhps\")\n",
    "friend_max_hp_list = battle_response.get(\"api_f_maxhps\")\n",
    "enemy_now_hp_list = battle_response.get(\"api_e_nowhps\")\n",
    "enemy_max_hp_list = battle_response.get(\"api_e_maxhps\")\n",
    "\n",
    "for i, friend_now_hp in enumerate(friend_now_hp_list):\n",
    "    print(f\"味方{i+1}隻目のHP: {friend_now_hp}/{friend_max_hp_list[i]}\")\n",
    "\n",
    "for i, enemy_now_hp in enumerate(enemy_now_hp_list):\n",
    "    print(f\"敵{i+1}隻目のHP: {enemy_now_hp}/{enemy_max_hp_list[i]}\")"
   ]
  },
  {
   "cell_type": "markdown",
   "metadata": {},
   "source": [
    "### 敵味方のダメージを算出"
   ]
  },
  {
   "cell_type": "code",
   "execution_count": 10,
   "metadata": {},
   "outputs": [
    {
     "name": "stdout",
     "output_type": "stream",
     "text": [
      "<先制対潜は発生しませんでした>\n",
      "<先制雷撃は発生しませんでした>\n",
      "<砲撃戦1巡目>\n",
      "敵の1隻目に12ダメージ\n",
      "味方の4隻目に1ダメージ\n",
      "敵の1隻目に24ダメージ\n",
      "<雷撃戦は発生しませんでした>\n",
      "<トータル>\n",
      "味方のダメージ合計: [0, 0, 0, 1, 0, 0, 0]\n",
      "敵のダメージ合計: [36, 0, 0, 0, 0, 0, 0]\n"
     ]
    }
   ],
   "source": [
    "\n",
    "total_friend_damage_list = [0] * 7\n",
    "total_enemy_damage_list = [0] * 7\n",
    "\n",
    "if opening_taisen_flag:\n",
    "    # TODO 先制対潜の情報を取得する\n",
    "    pass\n",
    "else:\n",
    "    print(\"<先制対潜は発生しませんでした>\")\n",
    "\n",
    "if opening_flag:\n",
    "    # TODO 先制雷撃の情報を取得する\n",
    "    pass\n",
    "else:\n",
    "    print(\"<先制雷撃は発生しませんでした>\")\n",
    "\n",
    "# 砲撃戦の情報を取得する\n",
    "for i in range(3):\n",
    "    flag = hourai_flag[i]\n",
    "    if not flag:\n",
    "        break\n",
    "    \n",
    "    print(\"<砲撃戦\" + str(i+1) + \"巡目>\")\n",
    "    \n",
    "    hougeki_data = battle_response.get(f\"api_hougeki{i+1}\")\n",
    "    # 行動陣営フラグ 0=味方, 1=敵\n",
    "    at_e_flag_list = hougeki_data.get(\"api_at_eflag\")\n",
    "    df_list = hougeki_data.get(\"api_df_list\")\n",
    "    damage_list = hougeki_data.get(\"api_damage\")\n",
    "    for i, at_e_flag in enumerate(at_e_flag_list):\n",
    "        index = df_list[i][0]\n",
    "        damage = damage_list[i][0]\n",
    "        is_protected = damage % 1 == 0.1\n",
    "        damage //= 1\n",
    "        \n",
    "        # ダメージを記録\n",
    "        if at_e_flag:\n",
    "            print(f\"味方の{index + 1}隻目に{damage}ダメージ{\"(旗艦を庇った)\" if is_protected else \"\"}\")\n",
    "            total_friend_damage_list[index] += damage\n",
    "        else:\n",
    "            print(f\"敵の{index + 1}隻目に{damage}ダメージ{\"(旗艦を庇った)\" if is_protected else \"\"}\")\n",
    "            total_enemy_damage_list[index] += damage\n",
    "\n",
    "# 雷撃戦の情報を取得する\n",
    "if hourai_flag[3]:\n",
    "    raigeki = battle_response.get(\"api_raigeki\")\n",
    "    fdam = raigeki.get(\"api_fdam\")\n",
    "    edam = raigeki.get(\"api_edam\")\n",
    "\n",
    "    for i, f in enumerate(fdam):\n",
    "        print(f\"味方の{i+1}隻目に{f}ダメージ\")\n",
    "        total_friend_damage_list[i] += f\n",
    "\n",
    "    for i, e in enumerate(edam):\n",
    "        print(f\"敵の{i+1}隻目に{e}ダメージ\")\n",
    "        total_enemy_damage_list[i] += e\n",
    "else:\n",
    "    print(\"<雷撃戦は発生しませんでした>\")\n",
    "\n",
    "print(\"<トータル>\")\n",
    "print(f\"味方のダメージ合計: {total_friend_damage_list}\")\n",
    "print(f\"敵のダメージ合計: {total_enemy_damage_list}\")"
   ]
  },
  {
   "cell_type": "markdown",
   "metadata": {},
   "source": [
    "### 残存HPを算出 大破かどうかを算出"
   ]
  },
  {
   "cell_type": "code",
   "execution_count": 11,
   "metadata": {},
   "outputs": [
    {
     "name": "stdout",
     "output_type": "stream",
     "text": [
      "味方1隻目の残りHP: 15/15 \n",
      "味方2隻目の残りHP: 13/13 \n",
      "味方3隻目の残りHP: 15/15 \n",
      "味方4隻目の残りHP: 14/15 \n",
      "味方5隻目の残りHP: 13/13 \n",
      "味方6隻目の残りHP: 16/16 \n",
      "敵1隻目の残りHP: -16/20\n"
     ]
    }
   ],
   "source": [
    "friend_rest_hp_list = [now - damage for now, damage in zip(friend_now_hp_list, total_friend_damage_list)]\n",
    "enemy_rest_hp_list = [now - damage for now, damage in zip(enemy_now_hp_list, total_enemy_damage_list)]\n",
    "\n",
    "for i, (rest, max) in enumerate(zip(friend_rest_hp_list, friend_max_hp_list)):\n",
    "    huge_damage = rest <= max // 4\n",
    "    print(f\"味方{i+1}隻目の残りHP: {rest}/{max} {\"(大破)\" if huge_damage else \"\"}\")\n",
    "\n",
    "for i, (rest, max) in enumerate(zip(enemy_rest_hp_list, enemy_max_hp_list)):\n",
    "    print(f\"敵{i+1}隻目の残りHP: {rest}/{max}\")"
   ]
  },
  {
   "cell_type": "markdown",
   "metadata": {},
   "source": [
    "### 夜戦を選択可能かどうか確認"
   ]
  },
  {
   "cell_type": "code",
   "execution_count": 12,
   "metadata": {},
   "outputs": [
    {
     "name": "stdout",
     "output_type": "stream",
     "text": [
      "夜戦を行えない\n"
     ]
    }
   ],
   "source": [
    "can_midnight_battle = any([hp > 0 for hp in enemy_rest_hp_list])\n",
    "print(\"夜戦を行える\" if can_midnight_battle else \"夜戦を行えない\")"
   ]
  },
  {
   "cell_type": "markdown",
   "metadata": {},
   "source": [
    "## api_req_sortie/battleresult 戦闘結果"
   ]
  },
  {
   "cell_type": "code",
   "execution_count": 13,
   "metadata": {},
   "outputs": [],
   "source": [
    "with open(root_dir + \"/2025-01-30 10:35:07.124012_api_req_sortie-battleresult.json\") as f:\n",
    "    battle_result = f.read()\n",
    "    battle_result = json.loads(battle_result).get(\"api_data\")\n",
    "    "
   ]
  },
  {
   "cell_type": "markdown",
   "metadata": {},
   "source": [
    "### 艦艇ドロップを確認"
   ]
  },
  {
   "cell_type": "code",
   "execution_count": 14,
   "metadata": {},
   "outputs": [
    {
     "name": "stdout",
     "output_type": "stream",
     "text": [
      "艦艇ドロップはありませんでした\n"
     ]
    }
   ],
   "source": [
    "get_flag = battle_result.get(\"api_get_flag\")\n",
    "\n",
    "if get_flag[1] == 1:\n",
    "    get_ship = battle_result.get(\"api_get_ship\")\n",
    "    print(f\"「{get_ship.get(\"api_ship_name\")}」をゲットしました\")\n",
    "else:\n",
    "    print(\"艦艇ドロップはありませんでした\")"
   ]
  },
  {
   "cell_type": "markdown",
   "metadata": {},
   "source": [
    "## 行き止まりか確認"
   ]
  },
  {
   "cell_type": "code",
   "execution_count": 15,
   "metadata": {},
   "outputs": [
    {
     "name": "stdout",
     "output_type": "stream",
     "text": [
      "行き止まりではありません\n"
     ]
    }
   ],
   "source": [
    "if start_response.get(\"api_next\") == 0:\n",
    "    print(\"行き止まり\")\n",
    "else:\n",
    "    print(\"行き止まりではありません\")"
   ]
  },
  {
   "cell_type": "markdown",
   "metadata": {},
   "source": [
    "## api_req_map/next 戦闘継続"
   ]
  },
  {
   "cell_type": "code",
   "execution_count": 16,
   "metadata": {},
   "outputs": [],
   "source": [
    "with open(root_dir + \"/2025-01-30 10:35:54.851160_api_req_map-next.json\") as f:\n",
    "    next_response = f.read()\n",
    "    next_response = json.loads(next_response).get(\"api_data\")\n",
    "    "
   ]
  },
  {
   "cell_type": "markdown",
   "metadata": {},
   "source": [
    "### 羅針盤が表示されるか確認"
   ]
  },
  {
   "cell_type": "code",
   "execution_count": 17,
   "metadata": {},
   "outputs": [
    {
     "name": "stdout",
     "output_type": "stream",
     "text": [
      "羅針盤が表示される\n"
     ]
    }
   ],
   "source": [
    "print(\"羅針盤が表示される\" if next_response.get(\"api_rashin_flg\") else \"羅針盤が表示されない\")"
   ]
  },
  {
   "cell_type": "markdown",
   "metadata": {},
   "source": [
    "### 次に訪れるセル"
   ]
  },
  {
   "cell_type": "code",
   "execution_count": 18,
   "metadata": {},
   "outputs": [
    {
     "name": "stdout",
     "output_type": "stream",
     "text": [
      "次に訪れるセルのID: 3\n",
      "次に訪れるセルの情報: {'api_id': 3004, 'api_no': 3, 'api_color_no': 5, 'api_passed': 1}\n",
      "次のマスのイベント: ボス戦闘\n"
     ]
    }
   ],
   "source": [
    "next_cell_id = next_response.get(\"api_no\")\n",
    "\n",
    "for d in cell_data:\n",
    "    if d.get(\"api_no\") == next_cell_id:\n",
    "        next_cell_data = d\n",
    "        break\n",
    "\n",
    "print(f\"次に訪れるセルのID: {next_cell_id}\")\n",
    "print(f\"次に訪れるセルの情報: {next_cell_data}\")\n",
    "print(f\"次のマスのイベント: {event_mapping.get(next_response.get(\"api_event_id\"), \"未知のイベント\")}\")"
   ]
  },
  {
   "cell_type": "markdown",
   "metadata": {},
   "source": [
    "## api_req_sortie/battle 戦闘開始"
   ]
  },
  {
   "cell_type": "code",
   "execution_count": 19,
   "metadata": {},
   "outputs": [],
   "source": [
    "with open(root_dir + \"/2025-01-30 10:37:21.795726_api_req_sortie-battle.json\") as f:\n",
    "    battle_response = f.read()\n",
    "    battle_response = json.loads(battle_response).get(\"api_data\")\n",
    "    "
   ]
  },
  {
   "cell_type": "markdown",
   "metadata": {},
   "source": [
    "### 戦闘の情報"
   ]
  },
  {
   "cell_type": "code",
   "execution_count": 20,
   "metadata": {},
   "outputs": [
    {
     "name": "stdout",
     "output_type": "stream",
     "text": [
      "先制対潜が発生しない\n",
      "先制雷撃が発生しない\n",
      "砲撃戦１巡目が発生する\n",
      "砲撃戦２巡目が発生しない\n",
      "砲撃戦３巡目が発生しない\n",
      "雷撃戦が発生する\n"
     ]
    }
   ],
   "source": [
    "opening_taisen_flag = battle_response.get(\"api_opening_taik_flag\")\n",
    "opening_flag = battle_response.get(\"api_opening_flag\")\n",
    "hourai_flag = battle_response.get(\"api_hourai_flag\")\n",
    "\n",
    "print(\"先制対潜が発生する\" if opening_taisen_flag else \"先制対潜が発生しない\")\n",
    "print(\"先制雷撃が発生する\" if opening_flag else \"先制雷撃が発生しない\")\n",
    "print(\"砲撃戦１巡目が発生する\" if hourai_flag[0] else \"砲撃戦１巡目が発生しない\")\n",
    "print(\"砲撃戦２巡目が発生する\" if hourai_flag[1] else \"砲撃戦２巡目が発生しない\")\n",
    "print(\"砲撃戦３巡目が発生する\" if hourai_flag[2] else \"砲撃戦３巡目が発生しない\")\n",
    "print(\"雷撃戦が発生する\" if hourai_flag[3] else \"雷撃戦が発生しない\")"
   ]
  },
  {
   "cell_type": "markdown",
   "metadata": {},
   "source": [
    "### 敵味方のHPを取得"
   ]
  },
  {
   "cell_type": "code",
   "execution_count": 21,
   "metadata": {},
   "outputs": [
    {
     "name": "stdout",
     "output_type": "stream",
     "text": [
      "味方1隻目のHP: 15/15\n",
      "味方2隻目のHP: 13/13\n",
      "味方3隻目のHP: 15/15\n",
      "味方4隻目のHP: 14/15\n",
      "味方5隻目のHP: 13/13\n",
      "味方6隻目のHP: 16/16\n",
      "敵1隻目のHP: 33/33\n",
      "敵2隻目のHP: 20/20\n",
      "敵3隻目のHP: 20/20\n"
     ]
    }
   ],
   "source": [
    "friend_now_hp_list = battle_response.get(\"api_f_nowhps\")\n",
    "friend_max_hp_list = battle_response.get(\"api_f_maxhps\")\n",
    "enemy_now_hp_list = battle_response.get(\"api_e_nowhps\")\n",
    "enemy_max_hp_list = battle_response.get(\"api_e_maxhps\")\n",
    "\n",
    "for i, friend_now_hp in enumerate(friend_now_hp_list):\n",
    "    print(f\"味方{i+1}隻目のHP: {friend_now_hp}/{friend_max_hp_list[i]}\")\n",
    "\n",
    "for i, enemy_now_hp in enumerate(enemy_now_hp_list):\n",
    "    print(f\"敵{i+1}隻目のHP: {enemy_now_hp}/{enemy_max_hp_list[i]}\")"
   ]
  },
  {
   "cell_type": "markdown",
   "metadata": {},
   "source": [
    "### 敵味方のダメージを算出"
   ]
  },
  {
   "cell_type": "code",
   "execution_count": 22,
   "metadata": {},
   "outputs": [
    {
     "name": "stdout",
     "output_type": "stream",
     "text": [
      "<先制対潜は発生しませんでした>\n",
      "<先制雷撃は発生しませんでした>\n",
      "<砲撃戦1巡目>\n",
      "敵の3隻目に19.0ダメージ\n",
      "味方の5隻目に0ダメージ\n",
      "敵の2隻目に10ダメージ\n",
      "味方の5隻目に1ダメージ\n",
      "敵の2隻目に0ダメージ\n",
      "味方の2隻目に0ダメージ\n",
      "敵の2隻目に8ダメージ\n",
      "敵の3隻目に4ダメージ\n",
      "敵の2隻目に6ダメージ\n",
      "味方の1隻目に0ダメージ\n",
      "味方の2隻目に8ダメージ\n",
      "味方の3隻目に0ダメージ\n",
      "味方の4隻目に0ダメージ\n",
      "味方の5隻目に0ダメージ\n",
      "味方の6隻目に0ダメージ\n",
      "味方の7隻目に0ダメージ\n",
      "敵の1隻目に23ダメージ\n",
      "敵の2隻目に0ダメージ\n",
      "敵の3隻目に0ダメージ\n",
      "敵の4隻目に0ダメージ\n",
      "敵の5隻目に0ダメージ\n",
      "敵の6隻目に0ダメージ\n",
      "敵の7隻目に0ダメージ\n",
      "<トータル>\n",
      "味方のダメージ合計: [0, 8, 0, 0, 1, 0, 0]\n",
      "敵のダメージ合計: [23, 24, 23.0, 0, 0, 0, 0]\n"
     ]
    }
   ],
   "source": [
    "\n",
    "total_friend_damage_list = [0] * 7\n",
    "total_enemy_damage_list = [0] * 7\n",
    "\n",
    "if opening_taisen_flag:\n",
    "    # TODO 先制対潜の情報を取得する\n",
    "    pass\n",
    "else:\n",
    "    print(\"<先制対潜は発生しませんでした>\")\n",
    "\n",
    "if opening_flag:\n",
    "    # TODO 先制雷撃の情報を取得する\n",
    "    pass\n",
    "else:\n",
    "    print(\"<先制雷撃は発生しませんでした>\")\n",
    "\n",
    "# 砲撃戦の情報を取得する\n",
    "for i in range(3):\n",
    "    flag = hourai_flag[i]\n",
    "    if not flag:\n",
    "        break\n",
    "    \n",
    "    print(\"<砲撃戦\" + str(i+1) + \"巡目>\")\n",
    "    \n",
    "    hougeki_data = battle_response.get(f\"api_hougeki{i+1}\")\n",
    "    # 行動陣営フラグ 0=味方, 1=敵\n",
    "    at_e_flag_list = hougeki_data.get(\"api_at_eflag\")\n",
    "    df_list = hougeki_data.get(\"api_df_list\")\n",
    "    damage_list = hougeki_data.get(\"api_damage\")\n",
    "    for i, at_e_flag in enumerate(at_e_flag_list):\n",
    "        index = df_list[i][0]\n",
    "        damage = damage_list[i][0]\n",
    "        is_protected = damage % 1 == 0.1\n",
    "        damage //= 1\n",
    "        \n",
    "        # ダメージを記録\n",
    "        if at_e_flag:\n",
    "            print(f\"味方の{index + 1}隻目に{damage}ダメージ{\"(旗艦を庇った)\" if is_protected else \"\"}\")\n",
    "            total_friend_damage_list[index] += damage\n",
    "        else:\n",
    "            print(f\"敵の{index + 1}隻目に{damage}ダメージ{\"(旗艦を庇った)\" if is_protected else \"\"}\")\n",
    "            total_enemy_damage_list[index] += damage\n",
    "\n",
    "# 雷撃戦の情報を取得する\n",
    "if hourai_flag[3]:\n",
    "    raigeki = battle_response.get(\"api_raigeki\")\n",
    "    fdam = raigeki.get(\"api_fdam\")\n",
    "    edam = raigeki.get(\"api_edam\")\n",
    "\n",
    "    for i, f in enumerate(fdam):\n",
    "        print(f\"味方の{i+1}隻目に{f}ダメージ\")\n",
    "        total_friend_damage_list[i] += f\n",
    "\n",
    "    for i, e in enumerate(edam):\n",
    "        print(f\"敵の{i+1}隻目に{e}ダメージ\")\n",
    "        total_enemy_damage_list[i] += e\n",
    "else:\n",
    "    print(\"<雷撃戦は発生しませんでした>\")\n",
    "\n",
    "print(\"<トータル>\")\n",
    "print(f\"味方のダメージ合計: {total_friend_damage_list}\")\n",
    "print(f\"敵のダメージ合計: {total_enemy_damage_list}\")"
   ]
  },
  {
   "cell_type": "markdown",
   "metadata": {},
   "source": [
    "### 残存HPを算出 大破かどうかを算出"
   ]
  },
  {
   "cell_type": "code",
   "execution_count": 23,
   "metadata": {},
   "outputs": [
    {
     "name": "stdout",
     "output_type": "stream",
     "text": [
      "味方1隻目の残りHP: 15/15 \n",
      "味方2隻目の残りHP: 5/13 \n",
      "味方3隻目の残りHP: 15/15 \n",
      "味方4隻目の残りHP: 14/15 \n",
      "味方5隻目の残りHP: 12/13 \n",
      "味方6隻目の残りHP: 16/16 \n",
      "敵1隻目の残りHP: 10/33\n",
      "敵2隻目の残りHP: -4/20\n",
      "敵3隻目の残りHP: -3.0/20\n"
     ]
    }
   ],
   "source": [
    "friend_rest_hp_list = [now - damage for now, damage in zip(friend_now_hp_list, total_friend_damage_list)]\n",
    "enemy_rest_hp_list = [now - damage for now, damage in zip(enemy_now_hp_list, total_enemy_damage_list)]\n",
    "\n",
    "for i, (rest, max) in enumerate(zip(friend_rest_hp_list, friend_max_hp_list)):\n",
    "    huge_damage = rest <= max // 4\n",
    "    print(f\"味方{i+1}隻目の残りHP: {rest}/{max} {\"(大破)\" if huge_damage else \"\"}\")\n",
    "\n",
    "for i, (rest, max) in enumerate(zip(enemy_rest_hp_list, enemy_max_hp_list)):\n",
    "    print(f\"敵{i+1}隻目の残りHP: {rest}/{max}\")"
   ]
  },
  {
   "cell_type": "markdown",
   "metadata": {},
   "source": [
    "### 夜戦を選択可能かどうか確認"
   ]
  },
  {
   "cell_type": "code",
   "execution_count": 24,
   "metadata": {},
   "outputs": [
    {
     "name": "stdout",
     "output_type": "stream",
     "text": [
      "夜戦を行える\n"
     ]
    }
   ],
   "source": [
    "can_midnight_battle = any([hp > 0 for hp in enemy_rest_hp_list])\n",
    "print(\"夜戦を行える\" if can_midnight_battle else \"夜戦を行えない\")"
   ]
  },
  {
   "cell_type": "markdown",
   "metadata": {},
   "source": [
    "## api_req_battle_midnight/battle 夜戦"
   ]
  },
  {
   "cell_type": "code",
   "execution_count": 25,
   "metadata": {},
   "outputs": [],
   "source": [
    "with open(root_dir + \"/2025-01-30 10:38:46.735547_api_req_battle_midnight-battle.json\") as f:\n",
    "    midnight_battle_response = f.read()\n",
    "    midnight_battle_response = json.loads(midnight_battle_response).get(\"api_data\")"
   ]
  }
 ],
 "metadata": {
  "kernelspec": {
   "display_name": "venv",
   "language": "python",
   "name": "python3"
  },
  "language_info": {
   "codemirror_mode": {
    "name": "ipython",
    "version": 3
   },
   "file_extension": ".py",
   "mimetype": "text/x-python",
   "name": "python",
   "nbconvert_exporter": "python",
   "pygments_lexer": "ipython3",
   "version": "3.13.1"
  }
 },
 "nbformat": 4,
 "nbformat_minor": 2
}
